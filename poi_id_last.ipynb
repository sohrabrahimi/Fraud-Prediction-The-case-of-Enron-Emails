{
 "cells": [
  {
   "cell_type": "markdown",
   "metadata": {},
   "source": [
    "# Exploring the Enron dataset:\n",
    "\n",
    "In this project I will explore the Enron email dataset and examine a number of clasifiers to predictthe POI (i.e. Point of Interest) person, based on a number of features extracted from the indivisuals' emails. This process will include identifying and removing the outliers, creating new features based on the previous ones, and engineering classifiers and tuning them to improve the overall prediction accuracy. "
   ]
  },
  {
   "cell_type": "code",
   "execution_count": 98,
   "metadata": {
    "collapsed": false,
    "scrolled": true
   },
   "outputs": [
    {
     "name": "stdout",
     "output_type": "stream",
     "text": [
      "the number of items in the dictionary is: 146\n",
      "the email sensers/recipients are: ['METTS MARK', 'BAXTER JOHN C', 'ELLIOTT STEVEN', 'CORDES WILLIAM R', 'HANNON KEVIN P', 'MORDAUNT KRISTINA M', 'MEYER ROCKFORD G', 'MCMAHON JEFFREY', 'HORTON STANLEY C', 'PIPER GREGORY F', 'HUMPHREY GENE E', 'UMANOFF ADAM S', 'BLACHMAN JEREMY M', 'SUNDE MARTIN', 'GIBBS DANA R', 'LOWRY CHARLES P', 'COLWELL WESLEY', 'MULLER MARK S', 'JACKSON CHARLENE R', 'WESTFAHL RICHARD K', 'WALTERS GARETH W', 'WALLS JR ROBERT H', 'KITCHEN LOUISE', 'CHAN RONNIE', 'BELFER ROBERT', 'SHANKMAN JEFFREY A', 'WODRASKA JOHN', 'BERGSIEKER RICHARD P', 'URQUHART JOHN A', 'BIBI PHILIPPE A', 'RIEKER PAULA H', 'WHALEY DAVID A', 'BECK SALLY W', 'HAUG DAVID L', 'ECHOLS JOHN B', 'MENDELSOHN JOHN', 'HICKERSON GARY J', 'CLINE KENNETH W', 'LEWIS RICHARD', 'HAYES ROBERT E', 'MCCARTY DANNY J', 'KOPPER MICHAEL J', 'LEFF DANIEL P', 'LAVORATO JOHN J', 'BERBERIAN DAVID', 'DETMERING TIMOTHY J', 'WAKEHAM JOHN', 'POWERS WILLIAM', 'GOLD JOSEPH', 'BANNANTINE JAMES M', 'DUNCAN JOHN H', 'SHAPIRO RICHARD S', 'SHERRIFF JOHN R', 'SHELBY REX', 'LEMAISTRE CHARLES', 'DEFFNER JOSEPH M', 'KISHKILL JOSEPH G', 'WHALLEY LAWRENCE G', 'MCCONNELL MICHAEL S', 'PIRO JIM', 'DELAINEY DAVID W', 'SULLIVAN-SHAKLOVITZ COLLEEN', 'WROBEL BRUCE', 'LINDHOLM TOD A', 'MEYER JEROME J', 'LAY KENNETH L', 'BUTTS ROBERT H', 'OLSON CINDY K', 'MCDONALD REBECCA', 'CUMBERLAND MICHAEL S', 'GAHN ROBERT S', 'MCCLELLAN GEORGE', 'HERMANN ROBERT J', 'SCRIMSHAW MATTHEW', 'GATHMANN WILLIAM D', 'HAEDICKE MARK E', 'BOWEN JR RAYMOND M', 'GILLIS JOHN', 'FITZGERALD JAY L', 'MORAN MICHAEL P', 'REDMOND BRIAN L', 'BAZELIDES PHILIP J', 'BELDEN TIMOTHY N', 'DURAN WILLIAM D', 'THORN TERENCE H', 'FASTOW ANDREW S', 'FOY JOE', 'CALGER CHRISTOPHER F', 'RICE KENNETH D', 'KAMINSKI WINCENTY J', 'LOCKHART EUGENE E', 'COX DAVID', 'OVERDYKE JR JERE C', 'PEREIRA PAULO V. FERRAZ', 'STABLER FRANK', 'SKILLING JEFFREY K', 'BLAKE JR. NORMAN P', 'SHERRICK JEFFREY B', 'PRENTICE JAMES', 'GRAY RODNEY', 'PICKERING MARK R', 'THE TRAVEL AGENCY IN THE PARK', 'NOLES JAMES L', 'KEAN STEVEN J', 'TOTAL', 'FOWLER PEGGY', 'WASAFF GEORGE', 'WHITE JR THOMAS E', 'CHRISTODOULOU DIOMEDES', 'ALLEN PHILLIP K', 'SHARP VICTORIA T', 'JAEDICKE ROBERT', 'WINOKUR JR. HERBERT S', 'BROWN MICHAEL', 'BADUM JAMES P', 'HUGHES JAMES A', 'REYNOLDS LAWRENCE', 'DIMICHELE RICHARD G', 'BHATNAGAR SANJAY', 'CARTER REBECCA C', 'BUCHANAN HAROLD G', 'YEAP SOON', 'MURRAY JULIA H', 'GARLAND C KEVIN', 'DODSON KEITH', 'YEAGER F SCOTT', 'HIRKO JOSEPH', 'DIETRICH JANET R', 'DERRICK JR. JAMES V', 'FREVERT MARK A', 'PAI LOU L', 'BAY FRANKLIN R', 'HAYSLETT RODERICK J', 'FUGH JOHN L', 'FALLON JAMES B', 'KOENIG MARK E', 'SAVAGE FRANK', 'IZZO LAWRENCE L', 'TILNEY ELIZABETH A', 'MARTIN AMANDA K', 'BUY RICHARD B', 'GRAMM WENDY L', 'CAUSEY RICHARD A', 'TAYLOR MITCHELL S', 'DONAHUE JR JEFFREY M', 'GLISAN JR BEN F']\n",
      "and the current features for each row in the dataste are: ['salary', 'to_messages', 'deferral_payments', 'total_payments', 'exercised_stock_options', 'bonus', 'restricted_stock', 'shared_receipt_with_poi', 'restricted_stock_deferred', 'total_stock_value', 'expenses', 'loan_advances', 'from_messages', 'other', 'from_this_person_to_poi', 'poi', 'director_fees', 'deferred_income', 'long_term_incentive', 'email_address', 'from_poi_to_this_person']\n"
     ]
    }
   ],
   "source": [
    "'''First we will read and examine teh dataset'''\n",
    "import sys\n",
    "import pickle\n",
    "import pandas as pd\n",
    "import os\n",
    "import seaborn as sb\n",
    "import matplotlib.pyplot as plt\n",
    "from feature_format import featureFormat, targetFeatureSplit\n",
    "\n",
    "from numpy import mean\n",
    "from feature_format import featureFormat, targetFeatureSplit\n",
    "from sklearn.feature_selection import SelectKBest\n",
    "from sklearn.feature_selection import SelectPercentile, f_classif\n",
    "from sklearn.preprocessing import MinMaxScaler\n",
    "from sklearn.cross_validation import train_test_split\n",
    "from sklearn.metrics import accuracy_score, precision_score, recall_score\n",
    "from sklearn import tree\n",
    "from sklearn.grid_search import GridSearchCV\n",
    "\n",
    "\n",
    "os.chdir(\"C:/Users/sur216/Box Sync/school stuff/Udacity (sur216@psu.edu)/Data Analyst/p5_enron/ud120-projects-master/final_project\")\n",
    "data_dict = pickle.load(open(\"final_project_dataset.pkl\", \"r\"))\n",
    "print \"the number of items in the dictionary is: {0}\".format(len(data_dict.keys()))\n",
    "print \"the email sensers/recipients are: {0}\".format(data_dict.keys())\n",
    "print \"and the current features for each row in the dataste are: {0}\".format(data_dict.values()[1].keys())"
   ]
  },
  {
   "cell_type": "code",
   "execution_count": 99,
   "metadata": {
    "collapsed": false
   },
   "outputs": [
    {
     "name": "stdout",
     "output_type": "stream",
     "text": [
      "number of features:  22 \n",
      "\n",
      "       len\n",
      "poi       \n",
      "0.0  128.0\n",
      "1.0   18.0\n"
     ]
    },
    {
     "name": "stderr",
     "output_type": "stream",
     "text": [
      "C:\\Users\\sur216\\Anaconda2\\lib\\site-packages\\ipykernel\\__main__.py:3: FutureWarning: convert_objects is deprecated.  Use the data-type specific converters pd.to_datetime, pd.to_timedelta and pd.to_numeric.\n",
      "  app.launch_new_instance()\n"
     ]
    }
   ],
   "source": [
    "def to_pandas(data_dict):\n",
    "    df = pd.DataFrame(data_dict)\n",
    "    df = df.convert_objects(convert_numeric=True)\n",
    "    df = df.transpose()\n",
    "    df.reset_index(level=0, inplace=True)\n",
    "    columns = list(df.columns)\n",
    "    columns[0] = 'name'\n",
    "    df.columns = columns\n",
    "    return(df)\n",
    "df = to_pandas(data_dict)\n",
    "bypoi = df.groupby(['poi'])\n",
    "print \"number of features: \", len(df.keys()), \"\\n\"\n",
    "print bypoi['poi'].agg([len])"
   ]
  },
  {
   "cell_type": "markdown",
   "metadata": {},
   "source": [
    "We can see that only a small proportion of the individuals are POI (18 out of 128). This makes the classification process a little difficult. A classifier in order to be useful, in this case, needs to have a high recall value (i.e. the ability of classifier to find all the positive samples) without comprimising the percision as much. "
   ]
  },
  {
   "cell_type": "code",
   "execution_count": 100,
   "metadata": {
    "collapsed": false
   },
   "outputs": [
    {
     "data": {
      "text/plain": [
       "name                           0\n",
       "bonus                         64\n",
       "deferral_payments            107\n",
       "deferred_income               97\n",
       "director_fees                129\n",
       "email_address                146\n",
       "exercised_stock_options       44\n",
       "expenses                      51\n",
       "from_messages                 60\n",
       "from_poi_to_this_person       60\n",
       "from_this_person_to_poi       60\n",
       "loan_advances                142\n",
       "long_term_incentive           80\n",
       "other                         53\n",
       "poi                            0\n",
       "restricted_stock              36\n",
       "restricted_stock_deferred    128\n",
       "salary                        51\n",
       "shared_receipt_with_poi       60\n",
       "to_messages                   60\n",
       "total_payments                21\n",
       "total_stock_value             20\n",
       "dtype: int64"
      ]
     },
     "execution_count": 100,
     "metadata": {},
     "output_type": "execute_result"
    }
   ],
   "source": [
    "df.isnull().sum()"
   ]
  },
  {
   "cell_type": "markdown",
   "metadata": {},
   "source": [
    "It's important to check the missing values in our dataset as too many missing values will be problematic in terms of the usability of a given feature. AS printed above, a lot of email addresses are missing but that's as important since we will not use it as a feature for our models. \"loan_advances\", \"director_fees\", \"deferral_payments\" and \"restricted_stock+deferred\", are some numerical features that have a relevantly large number of missing values which makes them less useful features. "
   ]
  },
  {
   "cell_type": "code",
   "execution_count": 101,
   "metadata": {
    "collapsed": false
   },
   "outputs": [
    {
     "name": "stdout",
     "output_type": "stream",
     "text": [
      "146\n"
     ]
    },
    {
     "data": {
      "image/png": "[encoded data removed]",
      "text/plain": [
       "<matplotlib.figure.Figure at 0xe5f6cf8>"
      ]
     },
     "metadata": {},
     "output_type": "display_data"
    }
   ],
   "source": [
    "# extract features from the dictionary\n",
    "feature_1 = \"salary\"\n",
    "feature_2 = \"exercised_stock_options\"\n",
    "feature_3 = \"total_payments\"\n",
    "feature_4 = \"bonus\"\n",
    "feature_5 = \"expenses\"\n",
    "poi  = \"poi\"\n",
    "features_list = [poi, feature_1, feature_2, feature_3,feature_4,feature_5]\n",
    "\n",
    "# make lists from the dataset for our scatter plots\n",
    "def finance_to_list (input_data): \n",
    "    data = featureFormat(input_data, features_list, remove_all_zeroes=False, remove_any_zeroes=False)\n",
    "    poi, finance_feat = targetFeatureSplit( data )\n",
    "    salary = []\n",
    "    ex_stock = []\n",
    "    tot_pay = []\n",
    "    bonus = []\n",
    "    expens = []\n",
    "    for point in finance_feat: \n",
    "        salary.append(point[0])\n",
    "        ex_stock.append(point[1])\n",
    "        tot_pay.append(point[2])\n",
    "        bonus.append(point[3])\n",
    "        expens.append(point[4])\n",
    "    return ([salary,ex_stock,tot_pay,bonus,expens,poi])   \n",
    "\n",
    " \n",
    "print(len(finance_to_list(data_dict)[2]))\n",
    "\n",
    "# plot multiple subplots\n",
    "%matplotlib inline\n",
    "plt.rcParams['figure.figsize'] = (11, 7)\n",
    "f, axarr = plt.subplots(2, 2)\n",
    "axarr[0, 0].hist(finance_to_list(data_dict)[0], bins = 50)\n",
    "axarr[0, 0].set_xlabel('salary')\n",
    "axarr[0, 1].scatter(finance_to_list(data_dict)[0], finance_to_list(data_dict)[2])\n",
    "axarr[0, 1].set_xlabel('Salary')\n",
    "axarr[0, 1].set_ylabel('total_payments')\n",
    "axarr[1, 0].scatter(finance_to_list(data_dict)[0], finance_to_list(data_dict)[3])\n",
    "axarr[1, 0].set_xlabel('Salary')\n",
    "axarr[1, 0].set_ylabel('bonus')\n",
    "axarr[1, 1].scatter(finance_to_list(data_dict)[0], finance_to_list(data_dict)[3])\n",
    "axarr[1, 1].set_xlabel('Salary')\n",
    "axarr[1, 1].set_ylabel('expenses')\n",
    "f.subplots_adjust(hspace=0.5)"
   ]
  },
  {
   "cell_type": "code",
   "execution_count": 102,
   "metadata": {
    "collapsed": false
   },
   "outputs": [
    {
     "data": {
      "image/png": "[encoded data removed]",
      "text/plain": [
       "<matplotlib.figure.Figure at 0xe5f6358>"
      ]
     },
     "metadata": {},
     "output_type": "display_data"
    }
   ],
   "source": [
    "'''we will first compare the two '''\n",
    "\n",
    "# list of POI values in the enron data\n",
    "pois = finance_to_list(data_dict)[5]\n",
    "poi_indices = []\n",
    "non_poi_indices = []\n",
    "c = -1\n",
    "for i in pois:\n",
    "    c +=1\n",
    "    if int(i)==1: poi_indices.append(c)\n",
    "    else: non_poi_indices.append(c)\n",
    "\n",
    "\n",
    "def get_poi(poi_indices):     \n",
    "    poi_sal = []\n",
    "    poi_exe = []\n",
    "    poi_tot = []\n",
    "    poi_bon = []\n",
    "    poi_exp = []\n",
    "    for i in poi_indices:\n",
    "        poi_sal.append(finance_to_list(data_dict)[0][i]/10000)\n",
    "        poi_exe.append(finance_to_list(data_dict)[1][i])\n",
    "        poi_tot.append(finance_to_list(data_dict)[2][i])\n",
    "        poi_bon.append(finance_to_list(data_dict)[3][i]/100000)\n",
    "        poi_exp.append(finance_to_list(data_dict)[4][i]/10000)\n",
    "    return [poi_sal,poi_exe,poi_tot,poi_bon,poi_exp]\n",
    "\n",
    "\n",
    "plt.rcParams['figure.figsize'] = (11, 7)\n",
    "f, axarr = plt.subplots(2, 5)\n",
    "axarr[0, 0].hist(get_poi(poi_indices)[0], bins = 50)\n",
    "axarr[0, 0].set_xlabel('poi salary')\n",
    "axarr[0, 1].hist(get_poi(poi_indices)[1], bins = 50)\n",
    "axarr[0, 2].hist(get_poi(poi_indices)[2], bins = 50)\n",
    "axarr[0, 2].set_xlabel('poi total_payments')\n",
    "axarr[0, 3].hist(get_poi(poi_indices)[3], bins = 50)\n",
    "axarr[0, 3].set_xlabel('poi bonuses')\n",
    "axarr[0, 4].hist(get_poi(poi_indices)[4], bins = 50)\n",
    "axarr[0, 4].set_xlabel('poi expenses')\n",
    "axarr[1, 0].hist(get_poi(non_poi_indices)[0], bins = 50, color = \"red\")\n",
    "axarr[1, 0].set_xlabel('non-poi salary')\n",
    "axarr[1, 1].hist(get_poi(non_poi_indices)[1], bins = 50, color = \"red\")\n",
    "axarr[1, 1].set_xlabel('non-poi exercised_stock_options')\n",
    "axarr[1, 2].hist(get_poi(non_poi_indices)[2], bins = 50, color = \"red\")\n",
    "axarr[1, 2].set_xlabel('non-poi total_payments')\n",
    "axarr[1, 3].hist(get_poi(non_poi_indices)[3], bins = 50, color = \"red\")\n",
    "axarr[1, 3].set_xlabel('non-poi bonuses')\n",
    "axarr[1, 4].hist(get_poi(non_poi_indices)[4], bins = 50, color = \"red\")\n",
    "axarr[1, 4].set_xlabel('non-poi expenses')\n",
    "axarr[0, 1].set_xlabel('poi exercised_stock_options')\n",
    "f.subplots_adjust(hspace=0.5)    "
   ]
  },
  {
   "cell_type": "code",
   "execution_count": 103,
   "metadata": {
    "collapsed": false
   },
   "outputs": [
    {
     "name": "stdout",
     "output_type": "stream",
     "text": [
      "LAY KENNETH L\n",
      "SKILLING JEFFREY K\n",
      "TOTAL\n",
      "FREVERT MARK A\n"
     ]
    }
   ],
   "source": [
    "# there is an extreme outlier\n",
    "for k, v in data_dict.items():\n",
    "     if v['salary'] != 'NaN' and v['salary'] > 1000000: print k"
   ]
  },
  {
   "cell_type": "markdown",
   "metadata": {},
   "source": [
    "We can see that there is \"Total\" in the receipents list which does not make sense. We will now define a function to give us the 5 largers features so that we can look closer and see if there are any particular outliers. "
   ]
  },
  {
   "cell_type": "code",
   "execution_count": 104,
   "metadata": {
    "collapsed": false
   },
   "outputs": [
    {
     "name": "stdout",
     "output_type": "stream",
     "text": [
      "5 largest bonus\n",
      "['TOTAL(not poi): 97343619', 'LAVORATO JOHN J(not poi): 8000000', 'LAY KENNETH L(poi): 7000000', 'SKILLING JEFFREY K(poi): 5600000', 'BELDEN TIMOTHY N(poi): 5249999']\n",
      "5 largest exercised_stock_options\n",
      "['TOTAL(not poi): 311764000', 'LAY KENNETH L(poi): 34348384', 'HIRKO JOSEPH(poi): 30766064', 'RICE KENNETH D(poi): 19794175', 'SKILLING JEFFREY K(poi): 19250000']\n",
      "5 largest loan_advances\n",
      "['TOTAL(not poi): 83925000', 'LAY KENNETH L(poi): 81525000', 'FREVERT MARK A(not poi): 2000000', 'PICKERING MARK R(not poi): 400000', 'METTS MARK(not poi): NaN']\n",
      "5 largest other\n",
      "['TOTAL(not poi): 42667589', 'LAY KENNETH L(poi): 10359729', 'FREVERT MARK A(not poi): 7427621', 'MARTIN AMANDA K(not poi): 2818454', 'BAXTER JOHN C(not poi): 2660303']\n",
      "5 largest restricted_stock\n",
      "['TOTAL(not poi): 130322299', 'LAY KENNETH L(poi): 14761694', 'WHITE JR THOMAS E(not poi): 13847074', 'PAI LOU L(not poi): 8453763', 'SKILLING JEFFREY K(poi): 6843672']\n",
      "5 largest restricted_stock_deferred\n",
      "['BHATNAGAR SANJAY(not poi): 15456290', 'BELFER ROBERT(not poi): 44093', 'METTS MARK(not poi): NaN', 'BAXTER JOHN C(not poi): NaN', 'ELLIOTT STEVEN(not poi): NaN']\n"
     ]
    }
   ],
   "source": [
    "# we ill define a function to find the five largest values for each financial feature\n",
    "def show_largest_five(data_dict, features, feature):\n",
    "    print \"5 largest\", feature\n",
    "    sorted_list = sorted(data_dict.iteritems(), \n",
    "                 key=lambda (key, val): int(0 if val[feature] == 'NaN' else val[feature]), reverse=True)[0:5]\n",
    "    print [(i[0]+ \"(\" + ('poi' if i[1]['poi'] else 'not poi') + \"): \"+ str(i[1][feature])) for i in sorted_list]\n",
    "show_largest_five(data_dict, finance_to_list (data_dict), 'bonus')\n",
    "show_largest_five(data_dict, finance_to_list (data_dict), 'exercised_stock_options')\n",
    "show_largest_five(data_dict, finance_to_list (data_dict), 'loan_advances')\n",
    "show_largest_five(data_dict, finance_to_list (data_dict), 'other')\n",
    "show_largest_five(data_dict, finance_to_list (data_dict), 'restricted_stock')\n",
    "show_largest_five(data_dict, finance_to_list (data_dict), 'restricted_stock_deferred')"
   ]
  },
  {
   "cell_type": "markdown",
   "metadata": {},
   "source": [
    "Other than \"Total\" th eother values eems to be fine. Just to make sure, we will print the receipents' names once again to double check. "
   ]
  },
  {
   "cell_type": "code",
   "execution_count": 94,
   "metadata": {
    "collapsed": false
   },
   "outputs": [
    {
     "name": "stdout",
     "output_type": "stream",
     "text": [
      "the email sensers/recipients are: ['METTS MARK', 'BAXTER JOHN C', 'ELLIOTT STEVEN', 'CORDES WILLIAM R', 'HANNON KEVIN P', 'MORDAUNT KRISTINA M', 'MEYER ROCKFORD G', 'MCMAHON JEFFREY', 'HORTON STANLEY C', 'PIPER GREGORY F', 'HUMPHREY GENE E', 'UMANOFF ADAM S', 'BLACHMAN JEREMY M', 'SUNDE MARTIN', 'GIBBS DANA R', 'LOWRY CHARLES P', 'COLWELL WESLEY', 'MULLER MARK S', 'JACKSON CHARLENE R', 'WESTFAHL RICHARD K', 'WALTERS GARETH W', 'WALLS JR ROBERT H', 'KITCHEN LOUISE', 'CHAN RONNIE', 'BELFER ROBERT', 'SHANKMAN JEFFREY A', 'WODRASKA JOHN', 'BERGSIEKER RICHARD P', 'URQUHART JOHN A', 'BIBI PHILIPPE A', 'RIEKER PAULA H', 'WHALEY DAVID A', 'BECK SALLY W', 'HAUG DAVID L', 'ECHOLS JOHN B', 'MENDELSOHN JOHN', 'HICKERSON GARY J', 'CLINE KENNETH W', 'LEWIS RICHARD', 'HAYES ROBERT E', 'MCCARTY DANNY J', 'KOPPER MICHAEL J', 'LEFF DANIEL P', 'LAVORATO JOHN J', 'BERBERIAN DAVID', 'DETMERING TIMOTHY J', 'WAKEHAM JOHN', 'POWERS WILLIAM', 'GOLD JOSEPH', 'BANNANTINE JAMES M', 'DUNCAN JOHN H', 'SHAPIRO RICHARD S', 'SHERRIFF JOHN R', 'SHELBY REX', 'LEMAISTRE CHARLES', 'DEFFNER JOSEPH M', 'KISHKILL JOSEPH G', 'WHALLEY LAWRENCE G', 'MCCONNELL MICHAEL S', 'PIRO JIM', 'DELAINEY DAVID W', 'SULLIVAN-SHAKLOVITZ COLLEEN', 'WROBEL BRUCE', 'LINDHOLM TOD A', 'MEYER JEROME J', 'LAY KENNETH L', 'BUTTS ROBERT H', 'OLSON CINDY K', 'MCDONALD REBECCA', 'CUMBERLAND MICHAEL S', 'GAHN ROBERT S', 'MCCLELLAN GEORGE', 'HERMANN ROBERT J', 'SCRIMSHAW MATTHEW', 'GATHMANN WILLIAM D', 'HAEDICKE MARK E', 'BOWEN JR RAYMOND M', 'GILLIS JOHN', 'FITZGERALD JAY L', 'MORAN MICHAEL P', 'REDMOND BRIAN L', 'BAZELIDES PHILIP J', 'BELDEN TIMOTHY N', 'DURAN WILLIAM D', 'THORN TERENCE H', 'FASTOW ANDREW S', 'FOY JOE', 'CALGER CHRISTOPHER F', 'RICE KENNETH D', 'KAMINSKI WINCENTY J', 'LOCKHART EUGENE E', 'COX DAVID', 'OVERDYKE JR JERE C', 'PEREIRA PAULO V. FERRAZ', 'STABLER FRANK', 'SKILLING JEFFREY K', 'BLAKE JR. NORMAN P', 'SHERRICK JEFFREY B', 'PRENTICE JAMES', 'GRAY RODNEY', 'PICKERING MARK R', 'NOLES JAMES L', 'KEAN STEVEN J', 'FOWLER PEGGY', 'WASAFF GEORGE', 'WHITE JR THOMAS E', 'CHRISTODOULOU DIOMEDES', 'ALLEN PHILLIP K', 'SHARP VICTORIA T', 'JAEDICKE ROBERT', 'WINOKUR JR. HERBERT S', 'BROWN MICHAEL', 'BADUM JAMES P', 'HUGHES JAMES A', 'REYNOLDS LAWRENCE', 'DIMICHELE RICHARD G', 'BHATNAGAR SANJAY', 'CARTER REBECCA C', 'BUCHANAN HAROLD G', 'YEAP SOON', 'MURRAY JULIA H', 'GARLAND C KEVIN', 'DODSON KEITH', 'YEAGER F SCOTT', 'HIRKO JOSEPH', 'DIETRICH JANET R', 'DERRICK JR. JAMES V', 'FREVERT MARK A', 'PAI LOU L', 'BAY FRANKLIN R', 'HAYSLETT RODERICK J', 'FUGH JOHN L', 'FALLON JAMES B', 'KOENIG MARK E', 'SAVAGE FRANK', 'IZZO LAWRENCE L', 'TILNEY ELIZABETH A', 'MARTIN AMANDA K', 'BUY RICHARD B', 'GRAMM WENDY L', 'CAUSEY RICHARD A', 'TAYLOR MITCHELL S', 'DONAHUE JR JEFFREY M', 'GLISAN JR BEN F']\n"
     ]
    }
   ],
   "source": [
    "print \"the email sensers/recipients are: {0}\".format(data_dict.keys())"
   ]
  },
  {
   "cell_type": "markdown",
   "metadata": {},
   "source": [
    "Other than Total, there seems to be another outlier: 'THE TRAVEL AGENCY IN THE PARK' which does not make sense because it's not a person's name. So we found two outliers overall and we will delete them here. "
   ]
  },
  {
   "cell_type": "code",
   "execution_count": 105,
   "metadata": {
    "collapsed": false
   },
   "outputs": [],
   "source": [
    "#turns out to be the TOTAL row from the salaries & bonuses list, let's remove it\n",
    "del data_dict[\"TOTAL\"]\n",
    "del data_dict['THE TRAVEL AGENCY IN THE PARK']"
   ]
  },
  {
   "cell_type": "markdown",
   "metadata": {},
   "source": [
    "# Task 3: Creat New Feature(s)\n",
    "\n",
    "It would make sense to take a closer look at the communication patterns of these names via email. So, I will first take a look at the relevant features."
   ]
  },
  {
   "cell_type": "markdown",
   "metadata": {},
   "source": [
    " The number of these emails alone will not inform us anything specific. A better idea would be to make a few features from these to see the extent of a person's communication with the poi as a proportion of the total number of his/her emails. Therefor, I will make two additional features: first, from_poi_to_this_person/to_messages and seconf, from_this_person_to_poi/from_messages. we will then add these two features to the list of features. \n",
    " \n",
    " I will also make a new feature for a peron's total financail activitiy (i.e total_money) by adding up these features: 'salary','total_stock_value','exercised_stock_options','bonus'"
   ]
  },
  {
   "cell_type": "code",
   "execution_count": 12,
   "metadata": {
    "collapsed": false
   },
   "outputs": [],
   "source": [
    "### Store to my_dataset for easy export below.\n",
    "my_dataset = data_dict\n",
    "\n",
    "## emails: \n",
    "for item in my_dataset:\n",
    "    ind = my_dataset[item]\n",
    "    if (all([ind['from_poi_to_this_person'] != 'NaN',ind['from_this_person_to_poi'] != 'NaN',\n",
    "        ind['to_messages'] != 'NaN',ind['from_messages'] != 'NaN'])):\n",
    "        fraction_from_poi = float(ind[\"from_poi_to_this_person\"]) / float(ind[\"to_messages\"])\n",
    "        ind[\"ratio_from_poi\"] = fraction_from_poi\n",
    "        fraction_to_poi = float(ind[\"from_this_person_to_poi\"]) / float(ind[\"from_messages\"])\n",
    "        ind[\"ratio_to_poi\"] = fraction_to_poi\n",
    "    else:\n",
    "        ind[\"ratio_from_poi\"] = ind[\"ratio_to_poi\"] = 0\n",
    "\n",
    "\n",
    "## Financial:\n",
    "for item in my_dataset:\n",
    "    ind = my_dataset[item]\n",
    "    if (all([ind['salary'] != 'NaN', ind['total_stock_value'] != 'NaN', \n",
    "             ind['exercised_stock_options'] != 'NaN',ind['bonus'] != 'NaN'])):\n",
    "        ind['total_money'] = sum([ind[field] for field in ['salary','total_stock_value','exercised_stock_options','bonus']])\n",
    "    else:\n",
    "        ind['total_money'] = 'NaN'"
   ]
  },
  {
   "cell_type": "markdown",
   "metadata": {},
   "source": [
    "Although the new features intuitively make sense, I will ckeck to see if it actually improves either percision or recall. To this end, I will create two feature lists: first, all features plus those that I just created   which I name \"my_features\" and second those featurese that were given in the dataset. I will name the later \"given_fetures\":"
   ]
  },
  {
   "cell_type": "code",
   "execution_count": 74,
   "metadata": {
    "collapsed": false
   },
   "outputs": [
    {
     "name": "stdout",
     "output_type": "stream",
     "text": [
      "my features: ['poi', 'salary', 'exercised_stock_options', 'total_payments', 'bonus', 'expenses', 'ratio_from_poi', 'ratio_to_poi', 'shared_receipt_with_poi', 'expenses', 'loan_advances', 'long_term_incentive', 'other', 'restricted_stock', 'restricted_stock_deferred', 'deferral_payments', 'deferred_income', 'salary', 'total_stock_value', 'exercised_stock_options', 'total_payments', 'bonus', 'total_money']\n",
      "goven features: ['poi', 'salary', 'exercised_stock_options', 'total_payments', 'bonus', 'expenses', 'shared_receipt_with_poi', 'expenses', 'loan_advances', 'long_term_incentive', 'other', 'restricted_stock', 'restricted_stock_deferred', 'deferral_payments', 'deferred_income', 'salary', 'total_stock_value', 'exercised_stock_options', 'total_payments', 'bonus']\n"
     ]
    }
   ],
   "source": [
    "my_features = features_list + ['ratio_from_poi','ratio_to_poi','shared_receipt_with_poi','expenses','loan_advances',\n",
    "                               'long_term_incentive','other','restricted_stock','restricted_stock_deferred','deferral_payments',\n",
    "                                'deferred_income','salary','total_stock_value','exercised_stock_options','total_payments',\n",
    "                               'bonus','total_money']\n",
    "\n",
    "given_features = features_list + ['shared_receipt_with_poi','expenses','loan_advances',\n",
    "                               'long_term_incentive','other','restricted_stock','restricted_stock_deferred','deferral_payments',\n",
    "                                'deferred_income','salary','total_stock_value','exercised_stock_options','total_payments',\n",
    "                               'bonus']\n",
    "\n",
    "data = featureFormat(my_dataset, my_features, sort_keys = True)\n",
    "data2 = featureFormat(my_dataset, given_features, sort_keys = True)\n",
    "\n",
    "labels, features = targetFeatureSplit(data)\n",
    "labels2, features2 = targetFeatureSplit(data2)\n",
    "\n",
    "print \"my features:\", my_features\n",
    "print \"goven features:\", given_features\n"
   ]
  },
  {
   "cell_type": "markdown",
   "metadata": {},
   "source": [
    "Now I will choose a classifies, say Random Forest. I will use grid search function and assign a number of parameters and choose the best classifier. I will do this process twice: once with my_features as in put featur elist and the second time only with the given features that we had in the dataset in the first place. I will then calculate the recall and percision. Before this step, however, I will define a function to conduct a k-fold cross validation and calculate the recall and percision for us. Her eis the function: "
   ]
  },
  {
   "cell_type": "code",
   "execution_count": 31,
   "metadata": {
    "collapsed": true
   },
   "outputs": [],
   "source": [
    "# define tester function\n",
    "def test_clf(grid_search, features, labels, parameters, iterations=100):\n",
    "    from sklearn.metrics import classification_report\n",
    "    precision, recall = [], []\n",
    "    for iteration in range(iterations):\n",
    "        features_train, features_test, labels_train, labels_test = train_test_split(features, labels, random_state=iteration)\n",
    "        grid_search.fit(features_train, labels_train)\n",
    "        predictions = grid_search.predict(features_test)\n",
    "    print classification_report(labels_test, predictions)\n",
    "    best_params = grid_search.best_estimator_.get_params()\n",
    "    for param_name in sorted(parameters.keys()):\n",
    "        print '%s=%r, ' % (param_name, best_params[param_name])"
   ]
  },
  {
   "cell_type": "markdown",
   "metadata": {},
   "source": [
    "Now let's test the classifiers on two feature lists and see which one performs better: "
   ]
  },
  {
   "cell_type": "code",
   "execution_count": 87,
   "metadata": {
    "collapsed": false
   },
   "outputs": [
    {
     "name": "stdout",
     "output_type": "stream",
     "text": [
      "results for my features\n",
      "             precision    recall  f1-score   support\n",
      "\n",
      "        0.0       0.91      0.97      0.94        32\n",
      "        1.0       0.50      0.25      0.33         4\n",
      "\n",
      "avg / total       0.87      0.89      0.87        36\n",
      "\n",
      "min_impurity_split=1e-15, \n",
      "min_samples_split=3, \n",
      "n_estimators=5, \n",
      "results for the given features\n",
      "             precision    recall  f1-score   support\n",
      "\n",
      "        0.0       0.88      0.91      0.89        32\n",
      "        1.0       0.00      0.00      0.00         4\n",
      "\n",
      "avg / total       0.78      0.81      0.79        36\n",
      "\n",
      "min_impurity_split=1e-15, \n",
      "min_samples_split=2, \n",
      "n_estimators=2, \n"
     ]
    }
   ],
   "source": [
    "from sklearn.naive_bayes import GaussianNB\n",
    "from sklearn.pipeline import Pipeline, FeatureUnion\n",
    "from sklearn.preprocessing import MinMaxScaler\n",
    "from sklearn.ensemble import RandomForestClassifier\n",
    "\n",
    "t0= time()\n",
    "parameters = {'n_estimators':[2,5], 'min_samples_split': [2,3], \n",
    "              'min_impurity_split' : [1e-7,1e-15]}\n",
    "clf = RandomForestClassifier()\n",
    "grid_search = GridSearchCV(clf, parameters)\n",
    "\n",
    "print \"results for my features\"\n",
    "test_clf(grid_search, features, labels, parameters)\n",
    "print \"results for the given features\"\n",
    "test_clf(grid_search, features2, labels2, parameters)"
   ]
  },
  {
   "cell_type": "markdown",
   "metadata": {},
   "source": [
    "As you can see the my_feature list performs better and it looks like our newly added features have already improved the results. Now we can go ahead and tune our classifiers and choose the best number of features. "
   ]
  },
  {
   "cell_type": "markdown",
   "metadata": {},
   "source": [
    "# Examine and tune different classifiers\n",
    "\n",
    "In this section we will try a number of classifiers and choose the best classifiers as out final model. Our criteria for selecting the best classifier are two measures namely, \"recall\" and \"percision\". Recall is the ability of classifier to identify all the positive values while percision is its ability to not falsely assign positive values to those values that are actually negative. Using these two we can understand how accurate our model is in identofying the POI individuals within the entire dataset. \n",
    "\n",
    "Cross validation is a common practice in machine learning to makes sure that the model that we have selected is capable of actually predicting the desired values. The purpose of cross validation is to test the model multiple times and make balance between model bias and variance. Overfitting, occures when we have a high variance in our model and is one of the most challenging things to avoid from in machin learning. Cross validation enable use to first fit a model on a portion of our data set (train) and then try the model on the remainder of the dataset (test) and calculate th error. Different techniques for cross validation exists (i.e. Leave One Out, K fold etc.) the most commonly used how ever is the k-fold with k = 10. Leave one out leads to more balanced models however it comes with a high computational cost. "
   ]
  },
  {
   "cell_type": "markdown",
   "metadata": {},
   "source": [
    "The function above conducts a k-fold cross validation (k = 100) to test a classifier.This function enable us to see calculate the avergae recall and percision for the entire dataset by dividing the datset into 100 folds, fir a model in 99 of them and test it on th eone left and iterate that process for all 100 folds. No wwe will go ahead an try a numer of classifiers. For each classifier, I will calculate the recall and percision for a number of different parameters. Also I will try different numbers of features. For the k-best feature selection method, I will try a model with {2,3,4,5} best features. I will try the PCA method as well with {2,3,4,5} principal components. We can then see which parameters and features are best for each classifier."
   ]
  },
  {
   "cell_type": "code",
   "execution_count": 88,
   "metadata": {
    "collapsed": false,
    "scrolled": true
   },
   "outputs": [],
   "source": [
    "data = featureFormat(my_dataset, my_features, sort_keys = True)\n",
    "labels, features = targetFeatureSplit(data)\n",
    "features_train, features_test, labels_train, labels_test = \\\n",
    "    train_test_split(features, labels, test_size=0.3, random_state=42)\n",
    "    \n",
    "#define a function to return the first k principal components   \n",
    "def doPCA(data,k): \n",
    "    from sklearn.decomposition import PCA\n",
    "    pca = PCA(n_components = k)\n",
    "    pca.fit(data)\n",
    "    return pca  "
   ]
  },
  {
   "cell_type": "code",
   "execution_count": 37,
   "metadata": {
    "collapsed": false
   },
   "outputs": [
    {
     "name": "stdout",
     "output_type": "stream",
     "text": [
      "K best features with k = 2\n",
      "             precision    recall  f1-score   support\n",
      "\n",
      "        0.0       0.91      0.97      0.94        32\n",
      "        1.0       0.50      0.25      0.33         4\n",
      "\n",
      "avg / total       0.87      0.89      0.87        36\n",
      "\n",
      "algorithm='SAMME', \n",
      "learning_rate=0.5, \n",
      "n_estimators=10, \n",
      "K best features with k = 3\n",
      "             precision    recall  f1-score   support\n",
      "\n",
      "        0.0       0.91      0.94      0.92        32\n",
      "        1.0       0.33      0.25      0.29         4\n",
      "\n",
      "avg / total       0.85      0.86      0.85        36\n",
      "\n",
      "algorithm='SAMME', \n",
      "learning_rate=0.5, \n",
      "n_estimators=10, \n",
      "K best features with k = 4\n",
      "             precision    recall  f1-score   support\n",
      "\n",
      "        0.0       0.89      0.97      0.93        32\n",
      "        1.0       0.00      0.00      0.00         4\n",
      "\n",
      "avg / total       0.79      0.86      0.82        36\n",
      "\n",
      "algorithm='SAMME', \n",
      "learning_rate=0.5, \n",
      "n_estimators=10, \n",
      "K best features with k = 5\n",
      "             precision    recall  f1-score   support\n",
      "\n",
      "        0.0       0.89      0.97      0.93        32\n",
      "        1.0       0.00      0.00      0.00         4\n",
      "\n",
      "avg / total       0.79      0.86      0.82        36\n",
      "\n",
      "algorithm='SAMME', \n",
      "learning_rate=0.5, \n",
      "n_estimators=10, \n",
      "\n",
      "AdaBoost (pca features):\n",
      "2 principal components:\n",
      "             precision    recall  f1-score   support\n",
      "\n",
      "        0.0       0.87      0.84      0.86        32\n",
      "        1.0       0.00      0.00      0.00         4\n",
      "\n",
      "avg / total       0.77      0.75      0.76        36\n",
      "\n",
      "algorithm='SAMME.R', \n",
      "learning_rate=0.5, \n",
      "n_estimators=20, \n",
      "3 principal components:\n",
      "             precision    recall  f1-score   support\n",
      "\n",
      "        0.0       0.89      0.97      0.93        32\n",
      "        1.0       0.00      0.00      0.00         4\n",
      "\n",
      "avg / total       0.79      0.86      0.82        36\n",
      "\n",
      "algorithm='SAMME', \n",
      "learning_rate=0.5, \n",
      "n_estimators=20, \n",
      "4 principal components:\n",
      "             precision    recall  f1-score   support\n",
      "\n",
      "        0.0       0.89      0.97      0.93        32\n",
      "        1.0       0.00      0.00      0.00         4\n",
      "\n",
      "avg / total       0.79      0.86      0.82        36\n",
      "\n",
      "algorithm='SAMME', \n",
      "learning_rate=0.5, \n",
      "n_estimators=10, \n",
      "5 principal components:\n",
      "             precision    recall  f1-score   support\n",
      "\n",
      "        0.0       0.89      0.97      0.93        32\n",
      "        1.0       0.00      0.00      0.00         4\n",
      "\n",
      "avg / total       0.79      0.86      0.82        36\n",
      "\n",
      "algorithm='SAMME', \n",
      "learning_rate=0.5, \n",
      "n_estimators=10, \n",
      "\n",
      "AdaBoost (Best k features):\n",
      "\n",
      "AdaBoost total time:1849.227s\n"
     ]
    }
   ],
   "source": [
    "# adaboost\n",
    "from sklearn.ensemble import AdaBoostClassifier\n",
    "from time import time\n",
    "clf = AdaBoostClassifier()\n",
    "t0= time()\n",
    "parameters = {'n_estimators': [10, 20, 40],\n",
    "               'algorithm': ['SAMME', 'SAMME.R'],\n",
    "               'learning_rate': [.5, 1, 1.5]}\n",
    "grid_search = GridSearchCV(clf, parameters)\n",
    "for i in [2,3,4,5]:\n",
    "    k_best = SelectKBest(k=i)\n",
    "    k_features = k_best.fit_transform(features, labels)\n",
    "    print \"K best features with k = {0}\".format(i)\n",
    "    test_clf(grid_search, k_features, labels, parameters)\n",
    "\n",
    "print '\\nAdaBoost (pca features):'\n",
    "for i in [2,3,4,5]:\n",
    "    pca = doPCA(features_train,i)\n",
    "    pca.fit(features_train)\n",
    "    pca_features = pca.transform(features)\n",
    "    print \"{0} principal components:\".format(i)\n",
    "    test_clf(grid_search, pca_features, labels, parameters)\n",
    "print '\\nAdaBoost (Best k features):'\n",
    "\n",
    "print '\\nAdaBoost total time:{0}s'.format(round(time()-t0, 3))"
   ]
  },
  {
   "cell_type": "code",
   "execution_count": 38,
   "metadata": {
    "collapsed": false
   },
   "outputs": [
    {
     "name": "stdout",
     "output_type": "stream",
     "text": [
      "K best features with k = 2\n",
      "             precision    recall  f1-score   support\n",
      "\n",
      "        0.0       0.91      0.97      0.94        32\n",
      "        1.0       0.50      0.25      0.33         4\n",
      "\n",
      "avg / total       0.87      0.89      0.87        36\n",
      "\n",
      "criterion='gini', \n",
      "max_depth=2, \n",
      "max_leaf_nodes=None, \n",
      "min_samples_leaf=1, \n",
      "min_samples_split=2, \n",
      "K best features with k = 3\n",
      "             precision    recall  f1-score   support\n",
      "\n",
      "        0.0       0.91      0.94      0.92        32\n",
      "        1.0       0.33      0.25      0.29         4\n",
      "\n",
      "avg / total       0.85      0.86      0.85        36\n",
      "\n",
      "criterion='gini', \n",
      "max_depth=2, \n",
      "max_leaf_nodes=None, \n",
      "min_samples_leaf=1, \n",
      "min_samples_split=10, \n",
      "K best features with k = 4\n"
     ]
    },
    {
     "name": "stderr",
     "output_type": "stream",
     "text": [
      "C:\\Users\\sur216\\Anaconda2\\lib\\site-packages\\sklearn\\metrics\\classification.py:1113: UndefinedMetricWarning: Precision and F-score are ill-defined and being set to 0.0 in labels with no predicted samples.\n",
      "  'precision', 'predicted', average, warn_for)\n"
     ]
    },
    {
     "name": "stdout",
     "output_type": "stream",
     "text": [
      "             precision    recall  f1-score   support\n",
      "\n",
      "        0.0       0.89      1.00      0.94        32\n",
      "        1.0       0.00      0.00      0.00         4\n",
      "\n",
      "avg / total       0.79      0.89      0.84        36\n",
      "\n",
      "criterion='gini', \n",
      "max_depth=None, \n",
      "max_leaf_nodes=None, \n",
      "min_samples_leaf=10, \n",
      "min_samples_split=2, \n",
      "K best features with k = 5\n",
      "             precision    recall  f1-score   support\n",
      "\n",
      "        0.0       0.89      1.00      0.94        32\n",
      "        1.0       0.00      0.00      0.00         4\n",
      "\n",
      "avg / total       0.79      0.89      0.84        36\n",
      "\n",
      "criterion='gini', \n",
      "max_depth=None, \n",
      "max_leaf_nodes=None, \n",
      "min_samples_leaf=10, \n",
      "min_samples_split=2, \n",
      "\n",
      "Decision Tree (pca features):\n",
      "2 principal components:\n",
      "             precision    recall  f1-score   support\n",
      "\n",
      "        0.0       0.87      0.84      0.86        32\n",
      "        1.0       0.00      0.00      0.00         4\n",
      "\n",
      "avg / total       0.77      0.75      0.76        36\n",
      "\n",
      "criterion='gini', \n",
      "max_depth=5, \n",
      "max_leaf_nodes=10, \n",
      "min_samples_leaf=1, \n",
      "min_samples_split=20, \n",
      "3 principal components:\n",
      "             precision    recall  f1-score   support\n",
      "\n",
      "        0.0       0.89      1.00      0.94        32\n",
      "        1.0       0.00      0.00      0.00         4\n",
      "\n",
      "avg / total       0.79      0.89      0.84        36\n",
      "\n",
      "criterion='gini', \n",
      "max_depth=None, \n",
      "max_leaf_nodes=None, \n",
      "min_samples_leaf=10, \n",
      "min_samples_split=2, \n",
      "4 principal components:\n",
      "             precision    recall  f1-score   support\n",
      "\n",
      "        0.0       0.89      1.00      0.94        32\n",
      "        1.0       0.00      0.00      0.00         4\n",
      "\n",
      "avg / total       0.79      0.89      0.84        36\n",
      "\n",
      "criterion='gini', \n",
      "max_depth=None, \n",
      "max_leaf_nodes=None, \n",
      "min_samples_leaf=10, \n",
      "min_samples_split=2, \n",
      "5 principal components:\n",
      "             precision    recall  f1-score   support\n",
      "\n",
      "        0.0       0.89      1.00      0.94        32\n",
      "        1.0       0.00      0.00      0.00         4\n",
      "\n",
      "avg / total       0.79      0.89      0.84        36\n",
      "\n",
      "criterion='gini', \n",
      "max_depth=None, \n",
      "max_leaf_nodes=None, \n",
      "min_samples_leaf=10, \n",
      "min_samples_split=2, \n",
      "\n",
      "Decision Tree  (Best k features):\n",
      "\n",
      "Decision Tree total time:1460.633s\n"
     ]
    }
   ],
   "source": [
    "# decision tree\n",
    "from sklearn import tree\n",
    "clf = tree.DecisionTreeClassifier()\n",
    "t0= time()\n",
    "parameters = {'criterion': ['gini', 'entropy'],\n",
    "               'min_samples_split': [2, 10, 20],\n",
    "               'max_depth': [None, 2, 5, 10],\n",
    "               'min_samples_leaf': [1, 5, 10],\n",
    "               'max_leaf_nodes': [None, 5, 10, 20]}\n",
    "grid_search = GridSearchCV(clf, parameters)\n",
    "for i in [2,3,4,5]:\n",
    "    k_best = SelectKBest(k=i)\n",
    "    k_features = k_best.fit_transform(features, labels)\n",
    "    print \"K best features with k = {0}\".format(i)\n",
    "    test_clf(grid_search, k_features, labels, parameters)\n",
    "\n",
    "print '\\nDecision Tree (pca features):'\n",
    "for i in [2,3,4,5]:\n",
    "    pca = doPCA(features_train,i)\n",
    "    pca.fit(features_train)\n",
    "    pca_features = pca.transform(features)\n",
    "    print \"{0} principal components:\".format(i)\n",
    "    test_clf(grid_search, pca_features, labels, parameters)\n",
    "print '\\nDecision Tree  (Best k features):'\n",
    "\n",
    "print '\\nDecision Tree total time:{0}s'.format(round(time()-t0, 3))"
   ]
  },
  {
   "cell_type": "code",
   "execution_count": 39,
   "metadata": {
    "collapsed": false
   },
   "outputs": [
    {
     "name": "stdout",
     "output_type": "stream",
     "text": [
      "K best features with k = 2\n",
      "             precision    recall  f1-score   support\n",
      "\n",
      "        0.0       0.91      0.97      0.94        32\n",
      "        1.0       0.50      0.25      0.33         4\n",
      "\n",
      "avg / total       0.87      0.89      0.87        36\n",
      "\n",
      "min_impurity_split=1e-15, \n",
      "min_samples_split=3, \n",
      "n_estimators=2, \n",
      "warm_start='TRUE', \n",
      "K best features with k = 3\n",
      "             precision    recall  f1-score   support\n",
      "\n",
      "        0.0       0.94      0.97      0.95        32\n",
      "        1.0       0.67      0.50      0.57         4\n",
      "\n",
      "avg / total       0.91      0.92      0.91        36\n",
      "\n",
      "min_impurity_split=1e-15, \n",
      "min_samples_split=5, \n",
      "n_estimators=2, \n",
      "warm_start='TRUE', \n",
      "K best features with k = 4\n",
      "             precision    recall  f1-score   support\n",
      "\n",
      "        0.0       0.94      0.94      0.94        32\n",
      "        1.0       0.50      0.50      0.50         4\n",
      "\n",
      "avg / total       0.89      0.89      0.89        36\n",
      "\n",
      "min_impurity_split=1e-07, \n",
      "min_samples_split=5, \n",
      "n_estimators=10, \n",
      "warm_start='FALSE', \n",
      "K best features with k = 5\n",
      "             precision    recall  f1-score   support\n",
      "\n",
      "        0.0       0.97      0.94      0.95        32\n",
      "        1.0       0.60      0.75      0.67         4\n",
      "\n",
      "avg / total       0.93      0.92      0.92        36\n",
      "\n",
      "min_impurity_split=1e-20, \n",
      "min_samples_split=2, \n",
      "n_estimators=2, \n",
      "warm_start='TRUE', \n",
      "\n",
      "Random Forest (pca features):\n",
      "2 principal components:\n",
      "             precision    recall  f1-score   support\n",
      "\n",
      "        0.0       0.89      0.97      0.93        32\n",
      "        1.0       0.00      0.00      0.00         4\n",
      "\n",
      "avg / total       0.79      0.86      0.82        36\n",
      "\n",
      "min_impurity_split=1e-15, \n",
      "min_samples_split=2, \n",
      "n_estimators=2, \n",
      "warm_start='FALSE', \n",
      "3 principal components:\n",
      "             precision    recall  f1-score   support\n",
      "\n",
      "        0.0       0.89      0.97      0.93        32\n",
      "        1.0       0.00      0.00      0.00         4\n",
      "\n",
      "avg / total       0.79      0.86      0.82        36\n",
      "\n",
      "min_impurity_split=1e-20, \n",
      "min_samples_split=3, \n",
      "n_estimators=2, \n",
      "warm_start='TRUE', \n",
      "4 principal components:\n",
      "             precision    recall  f1-score   support\n",
      "\n",
      "        0.0       0.89      0.97      0.93        32\n",
      "        1.0       0.00      0.00      0.00         4\n",
      "\n",
      "avg / total       0.79      0.86      0.82        36\n",
      "\n",
      "min_impurity_split=1e-07, \n",
      "min_samples_split=2, \n",
      "n_estimators=10, \n",
      "warm_start='FALSE', \n",
      "5 principal components:\n",
      "             precision    recall  f1-score   support\n",
      "\n",
      "        0.0       0.88      0.94      0.91        32\n",
      "        1.0       0.00      0.00      0.00         4\n",
      "\n",
      "avg / total       0.78      0.83      0.81        36\n",
      "\n",
      "min_impurity_split=1e-20, \n",
      "min_samples_split=5, \n",
      "n_estimators=2, \n",
      "warm_start='TRUE', \n",
      "\n",
      "Random Forest  (Best k features):\n",
      "\n",
      "Random Forest total time:2518.738s\n"
     ]
    }
   ],
   "source": [
    "#Random Forest\n",
    "from time import time\n",
    "from sklearn.ensemble import RandomForestClassifier\n",
    "\n",
    "t0= time()\n",
    "parameters = {'n_estimators':[2,5,10], 'min_samples_split': [2,3,5], \n",
    "              'min_impurity_split' : [1e-7,1e-15,1e-20],'warm_start' : ['TRUE','FALSE']}\n",
    "clf = RandomForestClassifier()\n",
    "grid_search = GridSearchCV(clf, parameters)\n",
    "for i in [2,3,4,5]:\n",
    "    k_best = SelectKBest(k=i)\n",
    "    k_features = k_best.fit_transform(features, labels)\n",
    "    print \"K best features with k = {0}\".format(i)\n",
    "    test_clf(grid_search, k_features, labels, parameters)\n",
    "\n",
    "print '\\nRandom Forest (pca features):'\n",
    "for i in [2,3,4,5]:\n",
    "    pca = doPCA(features_train,i)\n",
    "    pca.fit(features_train)\n",
    "    pca_features = pca.transform(features)\n",
    "    print \"{0} principal components:\".format(i)\n",
    "    test_clf(grid_search, pca_features, labels, parameters)\n",
    "print '\\nRandom Forest  (Best k features):'\n",
    "\n",
    "print '\\nRandom Forest total time:{0}s'.format(round(time()-t0, 3))"
   ]
  },
  {
   "cell_type": "code",
   "execution_count": 40,
   "metadata": {
    "collapsed": false
   },
   "outputs": [
    {
     "name": "stdout",
     "output_type": "stream",
     "text": [
      "K best features with k = 2\n",
      "             precision    recall  f1-score   support\n",
      "\n",
      "        0.0       0.91      0.97      0.94        32\n",
      "        1.0       0.50      0.25      0.33         4\n",
      "\n",
      "avg / total       0.87      0.89      0.87        36\n",
      "\n",
      "K best features with k = 3\n",
      "             precision    recall  f1-score   support\n",
      "\n",
      "        0.0       0.91      0.94      0.92        32\n",
      "        1.0       0.33      0.25      0.29         4\n",
      "\n",
      "avg / total       0.85      0.86      0.85        36\n",
      "\n",
      "K best features with k = 4\n",
      "             precision    recall  f1-score   support\n",
      "\n",
      "        0.0       0.91      0.94      0.92        32\n",
      "        1.0       0.33      0.25      0.29         4\n",
      "\n",
      "avg / total       0.85      0.86      0.85        36\n",
      "\n",
      "K best features with k = 5\n",
      "             precision    recall  f1-score   support\n",
      "\n",
      "        0.0       0.91      0.94      0.92        32\n",
      "        1.0       0.33      0.25      0.29         4\n",
      "\n",
      "avg / total       0.85      0.86      0.85        36\n",
      "\n",
      "\n",
      "GaussianNB (pca features):\n",
      "2 principal components:\n",
      "             precision    recall  f1-score   support\n",
      "\n",
      "        0.0       0.91      0.94      0.92        32\n",
      "        1.0       0.33      0.25      0.29         4\n",
      "\n",
      "avg / total       0.85      0.86      0.85        36\n",
      "\n",
      "3 principal components:\n",
      "             precision    recall  f1-score   support\n",
      "\n",
      "        0.0       0.91      0.94      0.92        32\n",
      "        1.0       0.33      0.25      0.29         4\n",
      "\n",
      "avg / total       0.85      0.86      0.85        36\n",
      "\n",
      "4 principal components:\n",
      "             precision    recall  f1-score   support\n",
      "\n",
      "        0.0       0.91      0.94      0.92        32\n",
      "        1.0       0.33      0.25      0.29         4\n",
      "\n",
      "avg / total       0.85      0.86      0.85        36\n",
      "\n",
      "5 principal components:\n",
      "             precision    recall  f1-score   support\n",
      "\n",
      "        0.0       0.91      0.94      0.92        32\n",
      "        1.0       0.33      0.25      0.29         4\n",
      "\n",
      "avg / total       0.85      0.86      0.85        36\n",
      "\n",
      "\n",
      "GaussianNB  (Best k features):\n",
      "\n",
      "GaussianNB total time:5.237s\n"
     ]
    }
   ],
   "source": [
    "# Naive Bayse\n",
    "from sklearn.naive_bayes import GaussianNB\n",
    "clf = GaussianNB()\n",
    "t0= time()\n",
    "parameters = {}\n",
    "grid_search = GridSearchCV(clf, parameters)\n",
    "for i in [2,3,4,5]:\n",
    "    k_best = SelectKBest(k=i)\n",
    "    k_features = k_best.fit_transform(features, labels)\n",
    "    print \"K best features with k = {0}\".format(i)\n",
    "    test_clf(grid_search, k_features, labels, parameters)\n",
    "\n",
    "print '\\nGaussianNB (pca features):'\n",
    "for i in [2,3,4,5]:\n",
    "    pca = doPCA(features_train,i)\n",
    "    pca.fit(features_train)\n",
    "    pca_features = pca.transform(features)\n",
    "    print \"{0} principal components:\".format(i)\n",
    "    test_clf(grid_search, pca_features, labels, parameters)\n",
    "print '\\nGaussianNB  (Best k features):'\n",
    "\n",
    "print '\\nGaussianNB total time:{0}s'.format(round(time()-t0, 3))"
   ]
  },
  {
   "cell_type": "markdown",
   "metadata": {},
   "source": [
    "# Final Pickle files\n",
    "\n",
    "Of all the classifiers that we tested, the RandomForest classifier with K=3 features selected via the k-best method results in the highest recall and percision values: percision = 0.67 and recall = 0.50.  we will therefore choose this classifier. "
   ]
  },
  {
   "cell_type": "code",
   "execution_count": 69,
   "metadata": {
    "collapsed": false
   },
   "outputs": [
    {
     "name": "stdout",
     "output_type": "stream",
     "text": [
      "[(True, 'exercised_stock_options', 24.250472354526192), (True, 'exercised_stock_options', 24.250472354526192), (True, 'total_stock_value', 23.613740454440904), (True, 'bonus', 20.257184998123947), (True, 'bonus', 20.257184998123947), (False, 'salary', 17.717873579243303), (False, 'salary', 17.717873579243303), (False, 'total_payments', 8.5708230787309816), (False, 'total_payments', 8.5708230787309816), (False, 'expenses', 5.8153280019048754)]\n"
     ]
    }
   ],
   "source": [
    "# K-best features\n",
    "k_best = SelectKBest(k=5)\n",
    "k_best.fit(features, labels)\n",
    "\n",
    "results_list = zip(k_best.get_support(), my_features[1:], k_best.scores_)\n",
    "results_list = sorted(results_list, key=lambda x: x[2], reverse=True)#print \"K-best features:\", results_list\n",
    "print results_list\n",
    "## 3 best features chosen by SelectKBest\n",
    "my_features = features_list + ['exercised_stock_options','total_stock_value',\n",
    "                                'bonus','salary','total_payments']\n",
    "\n",
    "data = featureFormat(my_dataset, my_features, sort_keys = True)\n",
    "labels, features = targetFeatureSplit(data)"
   ]
  },
  {
   "cell_type": "code",
   "execution_count": 70,
   "metadata": {
    "collapsed": false
   },
   "outputs": [],
   "source": [
    "# selecting the classifier\n",
    "clf = RandomForestClassifier(min_impurity_split=1e-20, min_samples_split=2,  n_estimators=2, warm_start='TRUE')"
   ]
  },
  {
   "cell_type": "code",
   "execution_count": 71,
   "metadata": {
    "collapsed": true
   },
   "outputs": [],
   "source": [
    "pickle.dump(clf, open(\"my_classifier.pkl\", \"w\") )\n",
    "pickle.dump(my_dataset, open(\"my_dataset.pkl\", \"w\") )\n",
    "pickle.dump(my_features, open(\"my_feature_list.pkl\", \"w\") )"
   ]
  },
  {
   "cell_type": "markdown",
   "metadata": {},
   "source": [
    "# Tester\n",
    "\n",
    "The tester below is provided by Udacity and I am using it here to evaluate my final classifier and it uses the StratifiedShuffleSplit function. this function performs both stratification and shuffling at the same time. Stratification keeps the balance between the labels in the subsamples during the cross validation. This is important in our case we only have 18 POI (positive labels) and we need to make sure that when we split the dataset each subsample gets it's share of the positive values. Shuffle split can be understood better as opposed to the k-fold. k fold simply divides the dataset into k equal sections and uses k-1 as training and the last on as test, for k times. Shuffle split, on teh other hand, samples from the entire dataset during each iteration, and a value selected in one iteration can be selected during another iteration. \n",
    "\n",
    "This block of code, in fact, is not necessary I just included this to see the results that the Udacity reviewer would come at while testing my classifier. My classifier has been tested through the \"test_clf\" function which conducts a k-fold classification (k = 100) and provide relevantly accurate recall and percision values. "
   ]
  },
  {
   "cell_type": "code",
   "execution_count": 72,
   "metadata": {
    "collapsed": false
   },
   "outputs": [
    {
     "name": "stderr",
     "output_type": "stream",
     "text": [
      "C:\\Users\\sur216\\Anaconda2\\lib\\site-packages\\sklearn\\ensemble\\forest.py:303: UserWarning: Warm-start fitting without increasing n_estimators does not fit new trees.\n",
      "  warn(\"Warm-start fitting without increasing n_estimators does not \"\n"
     ]
    },
    {
     "name": "stdout",
     "output_type": "stream",
     "text": [
      "RandomForestClassifier(bootstrap=True, class_weight=None, criterion='gini',\n",
      "            max_depth=None, max_features='auto', max_leaf_nodes=None,\n",
      "            min_impurity_split=1e-20, min_samples_leaf=1,\n",
      "            min_samples_split=2, min_weight_fraction_leaf=0.0,\n",
      "            n_estimators=2, n_jobs=1, oob_score=False, random_state=None,\n",
      "            verbose=0, warm_start='TRUE')\n",
      "\tAccuracy: 0.92587\tPrecision: 0.84526\tRecall: 0.54350\tF1: 0.66159\tF2: 0.58529\n",
      "\tTotal predictions: 15000\tTrue positives: 1087\tFalse positives:  199\tFalse negatives:  913\tTrue negatives: 12801\n",
      "\n"
     ]
    }
   ],
   "source": [
    "import pickle\n",
    "import sys\n",
    "from sklearn.cross_validation import StratifiedShuffleSplit\n",
    "sys.path.append(\"../tools/\")\n",
    "from feature_format import featureFormat, targetFeatureSplit\n",
    "\n",
    "PERF_FORMAT_STRING = \"\\\n",
    "\\tAccuracy: {:>0.{display_precision}f}\\tPrecision: {:>0.{display_precision}f}\\t\\\n",
    "Recall: {:>0.{display_precision}f}\\tF1: {:>0.{display_precision}f}\\tF2: {:>0.{display_precision}f}\"\n",
    "RESULTS_FORMAT_STRING = \"\\tTotal predictions: {:4d}\\tTrue positives: {:4d}\\tFalse positives: {:4d}\\\n",
    "\\tFalse negatives: {:4d}\\tTrue negatives: {:4d}\"\n",
    "\n",
    "def test_classifier(clf, dataset, feature_list, folds = 1000):\n",
    "    data = featureFormat(dataset, feature_list, sort_keys = True)\n",
    "    labels, features = targetFeatureSplit(data)\n",
    "    cv = StratifiedShuffleSplit(labels, folds, random_state = 42)\n",
    "    true_negatives = 0\n",
    "    false_negatives = 0\n",
    "    true_positives = 0\n",
    "    false_positives = 0\n",
    "    for train_idx, test_idx in cv: \n",
    "        features_train = []\n",
    "        features_test  = []\n",
    "        labels_train   = []\n",
    "        labels_test    = []\n",
    "        for ii in train_idx:\n",
    "            features_train.append( features[ii] )\n",
    "            labels_train.append( labels[ii] )\n",
    "        for jj in test_idx:\n",
    "            features_test.append( features[jj] )\n",
    "            labels_test.append( labels[jj] )\n",
    "        \n",
    "        ### fit the classifier using training set, and test on test set\n",
    "        clf.fit(features_train, labels_train)\n",
    "        predictions = clf.predict(features_test)\n",
    "        for prediction, truth in zip(predictions, labels_test):\n",
    "            if prediction == 0 and truth == 0:\n",
    "                true_negatives += 1\n",
    "            elif prediction == 0 and truth == 1:\n",
    "                false_negatives += 1\n",
    "            elif prediction == 1 and truth == 0:\n",
    "                false_positives += 1\n",
    "            elif prediction == 1 and truth == 1:\n",
    "                true_positives += 1\n",
    "            else:\n",
    "                print \"Warning: Found a predicted label not == 0 or 1.\"\n",
    "                print \"All predictions should take value 0 or 1.\"\n",
    "                print \"Evaluating performance for processed predictions:\"\n",
    "                break\n",
    "    try:\n",
    "        total_predictions = true_negatives + false_negatives + false_positives + true_positives\n",
    "        accuracy = 1.0*(true_positives + true_negatives)/total_predictions\n",
    "        precision = 1.0*true_positives/(true_positives+false_positives)\n",
    "        recall = 1.0*true_positives/(true_positives+false_negatives)\n",
    "        f1 = 2.0 * true_positives/(2*true_positives + false_positives+false_negatives)\n",
    "        f2 = (1+2.0*2.0) * precision*recall/(4*precision + recall)\n",
    "        print clf\n",
    "        print PERF_FORMAT_STRING.format(accuracy, precision, recall, f1, f2, display_precision = 5)\n",
    "        print RESULTS_FORMAT_STRING.format(total_predictions, true_positives, false_positives, false_negatives, true_negatives)\n",
    "        print \"\"\n",
    "    except:\n",
    "        print \"Got a divide by zero when trying out:\", clf\n",
    "        print \"Precision or recall may be undefined due to a lack of true positive predicitons.\"\n",
    "\n",
    "CLF_PICKLE_FILENAME = \"my_classifier.pkl\"\n",
    "DATASET_PICKLE_FILENAME = \"my_dataset.pkl\"\n",
    "FEATURE_LIST_FILENAME = \"my_feature_list.pkl\"\n",
    "\n",
    "def dump_classifier_and_data(clf, dataset, feature_list):\n",
    "    with open(CLF_PICKLE_FILENAME, \"w\") as clf_outfile:\n",
    "        pickle.dump(clf, clf_outfile)\n",
    "    with open(DATASET_PICKLE_FILENAME, \"w\") as dataset_outfile:\n",
    "        pickle.dump(dataset, dataset_outfile)\n",
    "    with open(FEATURE_LIST_FILENAME, \"w\") as featurelist_outfile:\n",
    "        pickle.dump(feature_list, featurelist_outfile)\n",
    "\n",
    "def load_classifier_and_data():\n",
    "    with open(CLF_PICKLE_FILENAME, \"r\") as clf_infile:\n",
    "        clf = pickle.load(clf_infile)\n",
    "    with open(DATASET_PICKLE_FILENAME, \"r\") as dataset_infile:\n",
    "        dataset = pickle.load(dataset_infile)\n",
    "    with open(FEATURE_LIST_FILENAME, \"r\") as featurelist_infile:\n",
    "        feature_list = pickle.load(featurelist_infile)\n",
    "    return clf, dataset, feature_list\n",
    "\n",
    "def main():\n",
    "    ### load up student's classifier, dataset, and feature_list\n",
    "    clf, dataset, feature_list = load_classifier_and_data()\n",
    "    ### Run testing script\n",
    "    test_classifier(clf, dataset, feature_list)\n",
    "\n",
    "if __name__ == '__main__':\n",
    "    main()\n"
   ]
  },
  {
   "cell_type": "markdown",
   "metadata": {},
   "source": [
    "# Discussion\n",
    "\n",
    "In this project I intended to predict the Points of Interests based on a number of features extracted from the Enron email dataset. I took the following steps to accomplish this project: first, I identified a number of outliers in the dataset and removed them. Next, I created three features and added to the dataset as the new features , which represented the ratio of emails sent and received from the point of interest to an individual and I found thiese features to be more informative as well as the total financial status of a person. After adding these features, I ended up with a high-dimensional dataset which is of course prone to overfitting. In order to remedy this, I tested a number of classifiers under different number of features chosen through the k-best feature selection method and the PCA method. I cocnluded that a k-best features with k = 5 gives the best percision and recall and therefore chose that as my final classifier. The best classifier was a random forest classifier with the following specifications: \n",
    "\n",
    "RandomForestClassifier(bootstrap=True, class_weight=None, criterion='gini',\n",
    "            max_depth=None, max_features='auto', max_leaf_nodes=None,\n",
    "            min_impurity_split=1e-20, min_samples_leaf=1,\n",
    "            min_samples_split=2, min_weight_fraction_leaf=0.0,\n",
    "            n_estimators=2, n_jobs=1, oob_score=False, random_state=None,\n",
    "            verbose=0, warm_start='TRUE')\n"
   ]
  }
 ],
 "metadata": {
  "anaconda-cloud": {},
  "kernelspec": {
   "display_name": "Python [default]",
   "language": "python",
   "name": "python2"
  },
  "language_info": {
   "codemirror_mode": {
    "name": "ipython",
    "version": 2
   },
   "file_extension": ".py",
   "mimetype": "text/x-python",
   "name": "python",
   "nbconvert_exporter": "python",
   "pygments_lexer": "ipython2",
   "version": "2.7.12"
  }
 },
 "nbformat": 4,
 "nbformat_minor": 1
}
